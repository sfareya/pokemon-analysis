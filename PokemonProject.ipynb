{
 "cells": [
  {
   "cell_type": "markdown",
   "id": "5c1f2d5f-1964-4b80-8b79-550afe53e9bc",
   "metadata": {},
   "source": [
    "# DataDex"
   ]
  },
  {
   "cell_type": "markdown",
   "id": "ff8d5036-f259-4b26-b79b-e7fb61f09e95",
   "metadata": {},
   "source": [
    "## Project Description\n",
    "\n",
    "The aim of this project is to predict the outcome of a one-versus-one Pokémon battle based on the Pokémons' statistics (Attack, Defense etc), their type (Poison, Normal etc) and win-loss data from previous battles.\n",
    "\n",
    "No Pokémon were harmed during this analysis."
   ]
  },
  {
   "cell_type": "code",
   "execution_count": 1,
   "id": "097400e7-8e6c-4d53-bf15-e02c8543f6f1",
   "metadata": {},
   "outputs": [],
   "source": [
    "# Imports\n",
    "import pandas as pd"
   ]
  },
  {
   "cell_type": "code",
   "execution_count": 2,
   "id": "46b219e6-cf24-45e4-8f24-9795dba73a0f",
   "metadata": {},
   "outputs": [
    {
     "data": {
      "text/html": [
       "<div>\n",
       "<style scoped>\n",
       "    .dataframe tbody tr th:only-of-type {\n",
       "        vertical-align: middle;\n",
       "    }\n",
       "\n",
       "    .dataframe tbody tr th {\n",
       "        vertical-align: top;\n",
       "    }\n",
       "\n",
       "    .dataframe thead th {\n",
       "        text-align: right;\n",
       "    }\n",
       "</style>\n",
       "<table border=\"1\" class=\"dataframe\">\n",
       "  <thead>\n",
       "    <tr style=\"text-align: right;\">\n",
       "      <th></th>\n",
       "      <th>Number</th>\n",
       "      <th>Name</th>\n",
       "      <th>Type 1</th>\n",
       "      <th>Type 2</th>\n",
       "      <th>HP</th>\n",
       "      <th>Attack</th>\n",
       "      <th>Defense</th>\n",
       "      <th>Sp. Atk</th>\n",
       "      <th>Sp. Def</th>\n",
       "      <th>Speed</th>\n",
       "      <th>Generation</th>\n",
       "      <th>Legendary</th>\n",
       "    </tr>\n",
       "  </thead>\n",
       "  <tbody>\n",
       "    <tr>\n",
       "      <th>0</th>\n",
       "      <td>1</td>\n",
       "      <td>Bulbasaur</td>\n",
       "      <td>Grass</td>\n",
       "      <td>Poison</td>\n",
       "      <td>45</td>\n",
       "      <td>49</td>\n",
       "      <td>49</td>\n",
       "      <td>65</td>\n",
       "      <td>65</td>\n",
       "      <td>45</td>\n",
       "      <td>1</td>\n",
       "      <td>False</td>\n",
       "    </tr>\n",
       "    <tr>\n",
       "      <th>1</th>\n",
       "      <td>2</td>\n",
       "      <td>Ivysaur</td>\n",
       "      <td>Grass</td>\n",
       "      <td>Poison</td>\n",
       "      <td>60</td>\n",
       "      <td>62</td>\n",
       "      <td>63</td>\n",
       "      <td>80</td>\n",
       "      <td>80</td>\n",
       "      <td>60</td>\n",
       "      <td>1</td>\n",
       "      <td>False</td>\n",
       "    </tr>\n",
       "    <tr>\n",
       "      <th>2</th>\n",
       "      <td>3</td>\n",
       "      <td>Venusaur</td>\n",
       "      <td>Grass</td>\n",
       "      <td>Poison</td>\n",
       "      <td>80</td>\n",
       "      <td>82</td>\n",
       "      <td>83</td>\n",
       "      <td>100</td>\n",
       "      <td>100</td>\n",
       "      <td>80</td>\n",
       "      <td>1</td>\n",
       "      <td>False</td>\n",
       "    </tr>\n",
       "    <tr>\n",
       "      <th>3</th>\n",
       "      <td>4</td>\n",
       "      <td>Mega Venusaur</td>\n",
       "      <td>Grass</td>\n",
       "      <td>Poison</td>\n",
       "      <td>80</td>\n",
       "      <td>100</td>\n",
       "      <td>123</td>\n",
       "      <td>122</td>\n",
       "      <td>120</td>\n",
       "      <td>80</td>\n",
       "      <td>1</td>\n",
       "      <td>False</td>\n",
       "    </tr>\n",
       "    <tr>\n",
       "      <th>4</th>\n",
       "      <td>5</td>\n",
       "      <td>Charmander</td>\n",
       "      <td>Fire</td>\n",
       "      <td>NaN</td>\n",
       "      <td>39</td>\n",
       "      <td>52</td>\n",
       "      <td>43</td>\n",
       "      <td>60</td>\n",
       "      <td>50</td>\n",
       "      <td>65</td>\n",
       "      <td>1</td>\n",
       "      <td>False</td>\n",
       "    </tr>\n",
       "  </tbody>\n",
       "</table>\n",
       "</div>"
      ],
      "text/plain": [
       "   Number           Name Type 1  Type 2  HP  Attack  Defense  Sp. Atk  \\\n",
       "0       1      Bulbasaur  Grass  Poison  45      49       49       65   \n",
       "1       2        Ivysaur  Grass  Poison  60      62       63       80   \n",
       "2       3       Venusaur  Grass  Poison  80      82       83      100   \n",
       "3       4  Mega Venusaur  Grass  Poison  80     100      123      122   \n",
       "4       5     Charmander   Fire     NaN  39      52       43       60   \n",
       "\n",
       "   Sp. Def  Speed  Generation  Legendary  \n",
       "0       65     45           1      False  \n",
       "1       80     60           1      False  \n",
       "2      100     80           1      False  \n",
       "3      120     80           1      False  \n",
       "4       50     65           1      False  "
      ]
     },
     "execution_count": 2,
     "metadata": {},
     "output_type": "execute_result"
    }
   ],
   "source": [
    "pokemon_df = pd.read_csv('Dataset\\pokemon.csv')\n",
    "\n",
    "# Renaming \"#\" to \"Number\"\n",
    "pokemon_df = pokemon_df.rename(index=str, columns={\"#\": \"Number\"})\n",
    "\n",
    "pokemon_df.head()"
   ]
  },
  {
   "cell_type": "code",
   "execution_count": 3,
   "id": "8bc67966-6fed-4b67-8b1e-851f1d42e95f",
   "metadata": {},
   "outputs": [
    {
     "name": "stdout",
     "output_type": "stream",
     "text": [
      "<class 'pandas.core.frame.DataFrame'>\n",
      "Index: 800 entries, 0 to 799\n",
      "Data columns (total 12 columns):\n",
      " #   Column      Non-Null Count  Dtype \n",
      "---  ------      --------------  ----- \n",
      " 0   Number      800 non-null    int64 \n",
      " 1   Name        799 non-null    object\n",
      " 2   Type 1      800 non-null    object\n",
      " 3   Type 2      414 non-null    object\n",
      " 4   HP          800 non-null    int64 \n",
      " 5   Attack      800 non-null    int64 \n",
      " 6   Defense     800 non-null    int64 \n",
      " 7   Sp. Atk     800 non-null    int64 \n",
      " 8   Sp. Def     800 non-null    int64 \n",
      " 9   Speed       800 non-null    int64 \n",
      " 10  Generation  800 non-null    int64 \n",
      " 11  Legendary   800 non-null    bool  \n",
      "dtypes: bool(1), int64(8), object(3)\n",
      "memory usage: 75.8+ KB\n"
     ]
    }
   ],
   "source": [
    "pokemon_df.info()"
   ]
  },
  {
   "cell_type": "markdown",
   "id": "23f9f922-e89b-4f97-8f0b-7eb07ee6d36e",
   "metadata": {},
   "source": [
    "## Understanding the dataset\n",
    "**Number:** Refers to the Pokémon's number in the [List of Pokémon by National Pokédex number](https://bulbapedia.bulbagarden.net/wiki/List_of_Pokémon_by_National_Pokédex_number).\n",
    "\n",
    "**Type 1:** All Pokémon have a main type. Type 1 refers to the main type.\n",
    "\n",
    "**Type 2:** Some Pokémon have a secondary type. Type 2 refers to the secondary type.\n",
    "\n",
    "**HP, Attack, Defense, Sp. Atk, Sp. Def, Speed:** Refers to the Pokémon's stats.\n",
    "\n",
    "**Generation:** Refers to the season of the show during which the Pokémon was released.\n",
    "\n",
    "**Legendary:** Special attribute that only very few Pokémon have."
   ]
  },
  {
   "cell_type": "code",
   "execution_count": 4,
   "id": "e1ec0da4-24cf-41df-bf8f-23fbfc726747",
   "metadata": {},
   "outputs": [
    {
     "data": {
      "text/plain": [
       "Number          0\n",
       "Name            1\n",
       "Type 1          0\n",
       "Type 2        386\n",
       "HP              0\n",
       "Attack          0\n",
       "Defense         0\n",
       "Sp. Atk         0\n",
       "Sp. Def         0\n",
       "Speed           0\n",
       "Generation      0\n",
       "Legendary       0\n",
       "dtype: int64"
      ]
     },
     "execution_count": 4,
     "metadata": {},
     "output_type": "execute_result"
    }
   ],
   "source": [
    "# Empty values in the Pokémon DF\n",
    "pokemon_df.isnull().sum()"
   ]
  },
  {
   "cell_type": "markdown",
   "id": "7fa94d08-756d-41d1-801b-f10ea5d12510",
   "metadata": {},
   "source": [
    "Empty values in Type 2 is normal, since some Pokémon don't have a secondary type.\n",
    "From the analysis, we can deduce that there are 386 Pokémon without a secondary type.\n",
    "We have one missing Pokémon name. Let's find it using this [link](https://bulbapedia.bulbagarden.net/wiki/List_of_Pokémon_by_National_Pokédex_number)."
   ]
  },
  {
   "cell_type": "code",
   "execution_count": 5,
   "id": "5a204383-58ae-4898-8174-705181dcb232",
   "metadata": {},
   "outputs": [
    {
     "name": "stdout",
     "output_type": "stream",
     "text": [
      "This pokemon is before the missing Pokemon: Mankey\n",
      "    Number Name    Type 1 Type 2  HP  Attack  Defense  Sp. Atk  Sp. Def  \\\n",
      "62      63  NaN  Fighting    NaN  65     105       60       60       70   \n",
      "\n",
      "    Speed  Generation  Legendary  \n",
      "62     95           1      False  \n",
      "This pokemon is after the missing Pokemon: Growlithe\n"
     ]
    }
   ],
   "source": [
    "print(\"This pokemon is before the missing Pokemon: \" + pokemon_df['Name'][61])\n",
    "print(pokemon_df[pokemon_df['Name'].isnull()])\n",
    "print(\"This pokemon is after the missing Pokemon: \" + pokemon_df['Name'][63])"
   ]
  },
  {
   "cell_type": "markdown",
   "id": "2b979929-526a-472e-9ae5-8de3b2116d62",
   "metadata": {},
   "source": [
    "So the missing Pokémon's number is 63. Using the link, we can see that the name of the missing Pokémon is Primeape. Let's add it."
   ]
  },
  {
   "cell_type": "code",
   "execution_count": 6,
   "id": "7fb23746-881b-449b-9f83-5b26bfff12f7",
   "metadata": {},
   "outputs": [
    {
     "data": {
      "text/html": [
       "<div>\n",
       "<style scoped>\n",
       "    .dataframe tbody tr th:only-of-type {\n",
       "        vertical-align: middle;\n",
       "    }\n",
       "\n",
       "    .dataframe tbody tr th {\n",
       "        vertical-align: top;\n",
       "    }\n",
       "\n",
       "    .dataframe thead th {\n",
       "        text-align: right;\n",
       "    }\n",
       "</style>\n",
       "<table border=\"1\" class=\"dataframe\">\n",
       "  <thead>\n",
       "    <tr style=\"text-align: right;\">\n",
       "      <th></th>\n",
       "      <th>Number</th>\n",
       "      <th>Name</th>\n",
       "      <th>Type 1</th>\n",
       "      <th>Type 2</th>\n",
       "      <th>HP</th>\n",
       "      <th>Attack</th>\n",
       "      <th>Defense</th>\n",
       "      <th>Sp. Atk</th>\n",
       "      <th>Sp. Def</th>\n",
       "      <th>Speed</th>\n",
       "      <th>Generation</th>\n",
       "      <th>Legendary</th>\n",
       "    </tr>\n",
       "  </thead>\n",
       "  <tbody>\n",
       "    <tr>\n",
       "      <th>62</th>\n",
       "      <td>63</td>\n",
       "      <td>Primeape</td>\n",
       "      <td>Fighting</td>\n",
       "      <td>NaN</td>\n",
       "      <td>65</td>\n",
       "      <td>105</td>\n",
       "      <td>60</td>\n",
       "      <td>60</td>\n",
       "      <td>70</td>\n",
       "      <td>95</td>\n",
       "      <td>1</td>\n",
       "      <td>False</td>\n",
       "    </tr>\n",
       "  </tbody>\n",
       "</table>\n",
       "</div>"
      ],
      "text/plain": [
       "    Number      Name    Type 1 Type 2  HP  Attack  Defense  Sp. Atk  Sp. Def  \\\n",
       "62      63  Primeape  Fighting    NaN  65     105       60       60       70   \n",
       "\n",
       "    Speed  Generation  Legendary  \n",
       "62     95           1      False  "
      ]
     },
     "execution_count": 6,
     "metadata": {},
     "output_type": "execute_result"
    }
   ],
   "source": [
    "# pokemon_df['Name'][62] = \"Primeape\" <- returns SettingWithCopyWarning\n",
    "\n",
    "pokemon_df.loc[pokemon_df.Number == 63, 'Name'] = \"Primeape\"\n",
    "\n",
    "# Display the new data\n",
    "primeape = pokemon_df[pokemon_df[\"Number\"] == 63]\n",
    "primeape"
   ]
  },
  {
   "cell_type": "code",
   "execution_count": 7,
   "id": "b692b758-cceb-41f0-a8e7-725df1affc30",
   "metadata": {},
   "outputs": [
    {
     "data": {
      "text/html": [
       "<div>\n",
       "<style scoped>\n",
       "    .dataframe tbody tr th:only-of-type {\n",
       "        vertical-align: middle;\n",
       "    }\n",
       "\n",
       "    .dataframe tbody tr th {\n",
       "        vertical-align: top;\n",
       "    }\n",
       "\n",
       "    .dataframe thead th {\n",
       "        text-align: right;\n",
       "    }\n",
       "</style>\n",
       "<table border=\"1\" class=\"dataframe\">\n",
       "  <thead>\n",
       "    <tr style=\"text-align: right;\">\n",
       "      <th></th>\n",
       "      <th>First_pokemon</th>\n",
       "      <th>Second_pokemon</th>\n",
       "      <th>Winner</th>\n",
       "    </tr>\n",
       "  </thead>\n",
       "  <tbody>\n",
       "    <tr>\n",
       "      <th>0</th>\n",
       "      <td>266</td>\n",
       "      <td>298</td>\n",
       "      <td>298</td>\n",
       "    </tr>\n",
       "    <tr>\n",
       "      <th>1</th>\n",
       "      <td>702</td>\n",
       "      <td>701</td>\n",
       "      <td>701</td>\n",
       "    </tr>\n",
       "    <tr>\n",
       "      <th>2</th>\n",
       "      <td>191</td>\n",
       "      <td>668</td>\n",
       "      <td>668</td>\n",
       "    </tr>\n",
       "    <tr>\n",
       "      <th>3</th>\n",
       "      <td>237</td>\n",
       "      <td>683</td>\n",
       "      <td>683</td>\n",
       "    </tr>\n",
       "    <tr>\n",
       "      <th>4</th>\n",
       "      <td>151</td>\n",
       "      <td>231</td>\n",
       "      <td>151</td>\n",
       "    </tr>\n",
       "  </tbody>\n",
       "</table>\n",
       "</div>"
      ],
      "text/plain": [
       "   First_pokemon  Second_pokemon  Winner\n",
       "0            266             298     298\n",
       "1            702             701     701\n",
       "2            191             668     668\n",
       "3            237             683     683\n",
       "4            151             231     151"
      ]
     },
     "execution_count": 7,
     "metadata": {},
     "output_type": "execute_result"
    }
   ],
   "source": [
    "combat_df = pd.read_csv('Dataset\\combats.csv')\n",
    "\n",
    "combat_df.head()"
   ]
  }
 ],
 "metadata": {
  "kernelspec": {
   "display_name": "Python 3 (ipykernel)",
   "language": "python",
   "name": "python3"
  },
  "language_info": {
   "codemirror_mode": {
    "name": "ipython",
    "version": 3
   },
   "file_extension": ".py",
   "mimetype": "text/x-python",
   "name": "python",
   "nbconvert_exporter": "python",
   "pygments_lexer": "ipython3",
   "version": "3.10.9"
  }
 },
 "nbformat": 4,
 "nbformat_minor": 5
}
